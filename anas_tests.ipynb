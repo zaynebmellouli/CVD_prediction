{
 "cells": [
  {
   "cell_type": "code",
   "execution_count": 1,
   "metadata": {},
   "outputs": [],
   "source": [
    "import numpy as np\n",
    "from implementations import *"
   ]
  },
  {
   "cell_type": "code",
   "execution_count": 2,
   "metadata": {},
   "outputs": [],
   "source": [
    "# load \"data/x_train.csv\"\n",
    "x_train = np.genfromtxt(\"data/x_train.csv\", delimiter=\",\", skip_header=1)\n",
    "features = np.genfromtxt(\"data/x_train.csv\", delimiter=\",\", dtype=str, max_rows=1)"
   ]
  },
  {
   "cell_type": "code",
   "execution_count": 26,
   "metadata": {},
   "outputs": [
    {
     "name": "stdout",
     "output_type": "stream",
     "text": [
      "['Id' '_STATE' 'FMONTH' 'IDATE' 'IMONTH' 'IDAY' 'IYEAR' 'DISPCODE' 'SEQNO'\n",
      " '_PSU' 'CTELENUM' 'PVTRESD1' 'COLGHOUS' 'STATERES' 'CELLFON3' 'LADULT'\n",
      " 'NUMADULT' 'NUMMEN' 'NUMWOMEN' 'CTELNUM1' 'CELLFON2' 'CADULT' 'PVTRESD2'\n",
      " 'CCLGHOUS' 'CSTATE' 'LANDLINE' 'HHADULT' 'GENHLTH' 'PHYSHLTH' 'MENTHLTH'\n",
      " 'POORHLTH' 'HLTHPLN1' 'PERSDOC2' 'MEDCOST' 'CHECKUP1' 'BPHIGH4' 'BPMEDS'\n",
      " 'BLOODCHO' 'CHOLCHK' 'TOLDHI2' 'CVDSTRK3' 'ASTHMA3' 'ASTHNOW' 'CHCSCNCR'\n",
      " 'CHCOCNCR' 'CHCCOPD1' 'HAVARTH3' 'ADDEPEV2' 'CHCKIDNY' 'DIABETE3'\n",
      " 'DIABAGE2' 'SEX' 'MARITAL' 'EDUCA' 'RENTHOM1' 'NUMHHOL2' 'NUMPHON2'\n",
      " 'CPDEMO1' 'VETERAN3' 'EMPLOY1' 'CHILDREN' 'INCOME2' 'INTERNET' 'WEIGHT2'\n",
      " 'HEIGHT3' 'PREGNANT' 'QLACTLM2' 'USEEQUIP' 'BLIND' 'DECIDE' 'DIFFWALK'\n",
      " 'DIFFDRES' 'DIFFALON' 'SMOKE100' 'SMOKDAY2' 'STOPSMK2' 'LASTSMK2'\n",
      " 'USENOW3' 'ALCDAY5' 'AVEDRNK2' 'DRNK3GE5' 'MAXDRNKS' 'FRUITJU1' 'FRUIT1'\n",
      " 'FVBEANS' 'FVGREEN' 'FVORANG' 'VEGETAB1' 'EXERANY2' 'EXRACT11' 'EXEROFT1'\n",
      " 'EXERHMM1' 'EXRACT21' 'EXEROFT2' 'EXERHMM2' 'STRENGTH' 'LMTJOIN3'\n",
      " 'ARTHDIS2' 'ARTHSOCL' 'JOINPAIN' 'SEATBELT' 'FLUSHOT6' 'FLSHTMY2'\n",
      " 'IMFVPLAC' 'PNEUVAC3' 'HIVTST6' 'HIVTSTD3' 'WHRTST10' 'PDIABTST'\n",
      " 'PREDIAB1' 'INSULIN' 'BLDSUGAR' 'FEETCHK2' 'DOCTDIAB' 'CHKHEMO3'\n",
      " 'FEETCHK' 'EYEEXAM' 'DIABEYE' 'DIABEDU' 'CAREGIV1' 'CRGVREL1' 'CRGVLNG1'\n",
      " 'CRGVHRS1' 'CRGVPRB1' 'CRGVPERS' 'CRGVHOUS' 'CRGVMST2' 'CRGVEXPT'\n",
      " 'VIDFCLT2' 'VIREDIF3' 'VIPRFVS2' 'VINOCRE2' 'VIEYEXM2' 'VIINSUR2'\n",
      " 'VICTRCT4' 'VIGLUMA2' 'VIMACDG2' 'CIMEMLOS' 'CDHOUSE' 'CDASSIST' 'CDHELP'\n",
      " 'CDSOCIAL' 'CDDISCUS' 'WTCHSALT' 'LONGWTCH' 'DRADVISE' 'ASTHMAGE'\n",
      " 'ASATTACK' 'ASERVIST' 'ASDRVIST' 'ASRCHKUP' 'ASACTLIM' 'ASYMPTOM'\n",
      " 'ASNOSLEP' 'ASTHMED3' 'ASINHALR' 'HAREHAB1' 'STREHAB1' 'CVDASPRN'\n",
      " 'ASPUNSAF' 'RLIVPAIN' 'RDUCHART' 'RDUCSTRK' 'ARTTODAY' 'ARTHWGT'\n",
      " 'ARTHEXER' 'ARTHEDU' 'TETANUS' 'HPVADVC2' 'HPVADSHT' 'SHINGLE2' 'HADMAM'\n",
      " 'HOWLONG' 'HADPAP2' 'LASTPAP2' 'HPVTEST' 'HPLSTTST' 'HADHYST2' 'PROFEXAM'\n",
      " 'LENGEXAM' 'BLDSTOOL' 'LSTBLDS3' 'HADSIGM3' 'HADSGCO1' 'LASTSIG3'\n",
      " 'PCPSAAD2' 'PCPSADI1' 'PCPSARE1' 'PSATEST1' 'PSATIME' 'PCPSARS1'\n",
      " 'PCPSADE1' 'PCDMDECN' 'SCNTMNY1' 'SCNTMEL1' 'SCNTPAID' 'SCNTWRK1'\n",
      " 'SCNTLPAD' 'SCNTLWK1' 'SXORIENT' 'TRNSGNDR' 'RCSGENDR' 'RCSRLTN2'\n",
      " 'CASTHDX2' 'CASTHNO2' 'EMTSUPRT' 'LSATISFY' 'ADPLEASR' 'ADDOWN' 'ADSLEEP'\n",
      " 'ADENERGY' 'ADEAT1' 'ADFAIL' 'ADTHINK' 'ADMOVE' 'MISTMNT' 'ADANXEV'\n",
      " 'QSTVER' 'QSTLANG' 'MSCODE' '_STSTR' '_STRWT' '_RAWRAKE' '_WT2RAKE'\n",
      " '_CHISPNC' '_CRACE1' '_CPRACE' '_CLLCPWT' '_DUALUSE' '_DUALCOR' '_LLCPWT'\n",
      " '_RFHLTH' '_HCVU651' '_RFHYPE5' '_CHOLCHK' '_RFCHOL' '_LTASTH1'\n",
      " '_CASTHM1' '_ASTHMS1' '_DRDXAR1' '_PRACE1' '_MRACE1' '_HISPANC' '_RACE'\n",
      " '_RACEG21' '_RACEGR3' '_RACE_G1' '_AGEG5YR' '_AGE65YR' '_AGE80' '_AGE_G'\n",
      " 'HTIN4' 'HTM4' 'WTKG3' '_BMI5' '_BMI5CAT' '_RFBMI5' '_CHLDCNT' '_EDUCAG'\n",
      " '_INCOMG' '_SMOKER3' '_RFSMOK3' 'DRNKANY5' 'DROCDY3_' '_RFBING5'\n",
      " '_DRNKWEK' '_RFDRHV5' 'FTJUDA1_' 'FRUTDA1_' 'BEANDAY_' 'GRENDAY_'\n",
      " 'ORNGDAY_' 'VEGEDA1_' '_MISFRTN' '_MISVEGN' '_FRTRESP' '_VEGRESP'\n",
      " '_FRUTSUM' '_VEGESUM' '_FRTLT1' '_VEGLT1' '_FRT16' '_VEG23' '_FRUITEX'\n",
      " '_VEGETEX' '_TOTINDA' 'METVL11_' 'METVL21_' 'MAXVO2_' 'FC60_' 'ACTIN11_'\n",
      " 'ACTIN21_' 'PADUR1_' 'PADUR2_' 'PAFREQ1_' 'PAFREQ2_' '_MINAC11'\n",
      " '_MINAC21' 'STRFREQ_' 'PAMISS1_' 'PAMIN11_' 'PAMIN21_' 'PA1MIN_'\n",
      " 'PAVIG11_' 'PAVIG21_' 'PA1VIGM_' '_PACAT1' '_PAINDX1' '_PA150R2'\n",
      " '_PA300R2' '_PA30021' '_PASTRNG' '_PAREC1' '_PASTAE1' '_LMTACT1'\n",
      " '_LMTWRK1' '_LMTSCL1' '_RFSEAT2' '_RFSEAT3' '_FLSHOT6' '_PNEUMO2'\n",
      " '_AIDTST3']\n"
     ]
    },
    {
     "data": {
      "text/plain": [
       "'codebook explains the meaning of each feature : \\nhttps://www.cdc.gov/brfss/annual_data/2015/pdf/codebook15_llcp.pdf'"
      ]
     },
     "execution_count": 26,
     "metadata": {},
     "output_type": "execute_result"
    }
   ],
   "source": [
    "print(features)\n",
    "\n",
    "# codebook explains the meaning of each feature : https://www.cdc.gov/brfss/annual_data/2015/pdf/codebook15_llcp.pdf"
   ]
  },
  {
   "cell_type": "code",
   "execution_count": 4,
   "metadata": {},
   "outputs": [],
   "source": [
    "y_train = np.genfromtxt(\"data/y_train.csv\", delimiter=\",\", skip_header=1)\n",
    "y_features = np.genfromtxt(\"data/y_train.csv\", delimiter=\",\", dtype=str, max_rows=1)"
   ]
  },
  {
   "cell_type": "code",
   "execution_count": 5,
   "metadata": {},
   "outputs": [
    {
     "name": "stdout",
     "output_type": "stream",
     "text": [
      "(328135, 322)\n",
      "(328135, 2)\n"
     ]
    }
   ],
   "source": [
    "print(x_train.shape)\n",
    "print(y_train.shape)"
   ]
  },
  {
   "cell_type": "code",
   "execution_count": 18,
   "metadata": {},
   "outputs": [],
   "source": [
    "# add y_train[:,1] to x_train in the last column\n",
    "data = np.column_stack((x_train, y_train[:,1]))"
   ]
  },
  {
   "cell_type": "code",
   "execution_count": 19,
   "metadata": {},
   "outputs": [
    {
     "data": {
      "text/plain": [
       "(328135, 323)"
      ]
     },
     "execution_count": 19,
     "metadata": {},
     "output_type": "execute_result"
    }
   ],
   "source": [
    "data.shape"
   ]
  },
  {
   "cell_type": "code",
   "execution_count": 35,
   "metadata": {},
   "outputs": [
    {
     "name": "stdout",
     "output_type": "stream",
     "text": [
      "0.911697929205967\n",
      "0.08830511832020357\n"
     ]
    }
   ],
   "source": [
    "# ratio of values in y_train\n",
    "print(np.sum(y_train == -1) / y_train.shape[0])\n",
    "print(np.sum(y_train == 1) / y_train.shape[0])\n"
   ]
  },
  {
   "cell_type": "markdown",
   "metadata": {},
   "source": [
    "## Let's determine the features that are the most correllated with the labels "
   ]
  },
  {
   "cell_type": "code",
   "execution_count": 21,
   "metadata": {},
   "outputs": [],
   "source": [
    "# for each feature in x_train, calculate the correlation with y_train[:,1]\n",
    "# x_train.shape : (328135, 322)\n",
    "# y_train.shape : (328135, 2)\n",
    "\n",
    "correlations = []\n",
    "\n",
    "# Iterate over each feature in x_train\n",
    "for i in range(x_train.shape[1]):\n",
    "    # Extract the i-th feature from x_train\n",
    "    x_feature = x_train[:, i]\n",
    "    \n",
    "    # Extract the target column from y_train\n",
    "    y_target = y_train[:, 1]\n",
    "    \n",
    "    # Create a boolean mask to filter out rows where either x_feature or y_target has NaN\n",
    "    mask = ~np.isnan(x_feature) & ~np.isnan(y_target)\n",
    "    \n",
    "    # Apply the mask to filter x_feature and y_target\n",
    "    filtered_x = x_feature[mask]\n",
    "    filtered_y = y_target[mask]\n",
    "    \n",
    "    # Calculate Pearson correlation only if there are valid (non-NaN) values left\n",
    "    if len(filtered_x) > 1:  # Need at least two values to calculate correlation\n",
    "        with np.errstate(invalid='ignore'):\n",
    "            corr = np.corrcoef(filtered_x, filtered_y)[0, 1]\n",
    "    else:\n",
    "        corr = np.nan  # If not enough values, assign NaN\n",
    "    \n",
    "    # Append the correlation result to the list\n",
    "    correlations.append(corr)\n"
   ]
  },
  {
   "cell_type": "code",
   "execution_count": 22,
   "metadata": {},
   "outputs": [
    {
     "data": {
      "image/png": "[encoded data removed]",
      "text/plain": [
       "<Figure size 640x480 with 1 Axes>"
      ]
     },
     "metadata": {},
     "output_type": "display_data"
    }
   ],
   "source": [
    "# sort the correlations according to the absolute value\n",
    "# then plot in a bar chart\n",
    "import matplotlib.pyplot as plt\n",
    "sorted_correlations = np.argsort(np.abs(correlations))\n",
    "sorted_correlations = sorted_correlations[::-1]\n",
    "\n",
    "plt.bar(range(len(sorted_correlations)), np.array(correlations)[sorted_correlations])\n",
    "plt.show()"
   ]
  },
  {
   "cell_type": "code",
   "execution_count": 23,
   "metadata": {},
   "outputs": [
    {
     "name": "stdout",
     "output_type": "stream",
     "text": [
      "GENHLTH: correlation = 0.24426949162996098, NaN ratio = 6.095052341261981e-06\n",
      "LADULT: correlation = -0.2321726094326961, NaN ratio = 0.9999024791625398\n",
      "CVDASPRN: correlation = -0.22766242918247137, NaN ratio = 0.9571944474073171\n",
      "_AGE80: correlation = 0.2245474143266388, NaN ratio = 0.0\n",
      "_AGEG5YR: correlation = 0.21900688187283066, NaN ratio = 0.0\n",
      "EMPLOY1: correlation = 0.2071861434970774, NaN ratio = 0.0\n",
      "_AGE_G: correlation = 0.20687285866885402, NaN ratio = 0.0\n",
      "BPHIGH4: correlation = -0.20450352324261958, NaN ratio = 3.0475261706309903e-06\n",
      "_HCVU651: correlation = 0.19642429934200228, NaN ratio = 0.0\n",
      "_AGE65YR: correlation = 0.1852452016611347, NaN ratio = 0.0\n",
      "_RFHLTH: correlation = 0.1715992514790009, NaN ratio = 0.0\n",
      "_RFHYPE5: correlation = 0.17131942944502954, NaN ratio = 0.0\n",
      "_DRDXAR1: correlation = -0.16836574235532828, NaN ratio = 0.005738491779298155\n",
      "DIABETE3: correlation = -0.16134358652044806, NaN ratio = 1.523763085315495e-05\n",
      "DRADVISE: correlation = -0.14308740484348803, NaN ratio = 0.9067700793880568\n",
      "USEEQUIP: correlation = -0.13477203170842295, NaN ratio = 0.023596995139195758\n",
      "DIFFWALK: correlation = -0.1343241153720408, NaN ratio = 0.02788181693510293\n",
      "HAVARTH3: correlation = -0.12198978714804676, NaN ratio = 3.0475261706309903e-06\n",
      "ARTTODAY: correlation = 0.11982562654062372, NaN ratio = 0.955551830801347\n",
      "ASERVIST: correlation = -0.11787761057580357, NaN ratio = 0.9993051640330961\n",
      "QLACTLM2: correlation = -0.11468609308205917, NaN ratio = 0.021128498940984657\n",
      "CHILDREN: correlation = 0.11409425162657601, NaN ratio = 9.14257851189297e-06\n",
      "TOLDHI2: correlation = -0.11390348532536625, NaN ratio = 0.133484693799808\n",
      "LASTPAP2: correlation = 0.11170292687252066, NaN ratio = 0.9516723299861337\n",
      "PCPSADE1: correlation = 0.11088850414955048, NaN ratio = 0.9981836744023039\n",
      "_RFCHOL: correlation = 0.1107677744904412, NaN ratio = 0.133484693799808\n",
      "ACTIN11_: correlation = 0.10930429116202997, NaN ratio = 0.33849482682432536\n",
      "INTERNET: correlation = 0.10863738416807737, NaN ratio = 0.009773416429213587\n",
      "CDASSIST: correlation = -0.10447512424822564, NaN ratio = 0.9706035625580934\n",
      "PNEUVAC3: correlation = -0.10342713843208137, NaN ratio = 0.09454035686531458\n",
      "CVDSTRK3: correlation = -0.10126552092464387, NaN ratio = 0.0\n"
     ]
    }
   ],
   "source": [
    "# print all features that have a (absolute) correlation greater than 0.1\n",
    "\n",
    "most_correlated_features = []\n",
    "for i in sorted_correlations:\n",
    "    if np.abs(correlations[i]) > 0.1:\n",
    "        most_correlated_features.append(features[i])\n",
    "        nan_ratio = np.isnan(x_train[:, i]).mean()\n",
    "        print(f\"{features[i]}: correlation = {correlations[i]}, NaN ratio = {nan_ratio}\")\n",
    "\n"
   ]
  },
  {
   "cell_type": "code",
   "execution_count": 28,
   "metadata": {},
   "outputs": [
    {
     "name": "stdout",
     "output_type": "stream",
     "text": [
      "[57. 57. 65. 65. 61. 59. 80. 80. 55. 59.]\n",
      "[ 8.  8. 10. 10. 14.  8. 13. 13.  8.  8.]\n"
     ]
    }
   ],
   "source": [
    "# print 10 first values for feature _AGE80\n",
    "feature_index = np.where(features == \"_AGE80\")[0][0]\n",
    "print(x_train[:10, feature_index])\n",
    "feature_index = np.where(features == \"_AGEG5YR\")[0][0]\n",
    "print(x_train[:10, feature_index])"
   ]
  },
  {
   "cell_type": "code",
   "execution_count": 24,
   "metadata": {},
   "outputs": [
    {
     "name": "stdout",
     "output_type": "stream",
     "text": [
      "GENHLTH: correlation = 0.24426949162996098\n",
      "_AGE80: correlation = 0.2245474143266388\n",
      "_AGEG5YR: correlation = 0.21900688187283066\n",
      "EMPLOY1: correlation = 0.2071861434970774\n",
      "_AGE_G: correlation = 0.20687285866885402\n",
      "BPHIGH4: correlation = -0.20450352324261958\n",
      "_HCVU651: correlation = 0.19642429934200228\n",
      "_AGE65YR: correlation = 0.1852452016611347\n",
      "_RFHLTH: correlation = 0.1715992514790009\n",
      "_RFHYPE5: correlation = 0.17131942944502954\n",
      "_DRDXAR1: correlation = -0.16836574235532828\n",
      "DIABETE3: correlation = -0.16134358652044806\n",
      "USEEQUIP: correlation = -0.13477203170842295\n",
      "DIFFWALK: correlation = -0.1343241153720408\n",
      "HAVARTH3: correlation = -0.12198978714804676\n",
      "QLACTLM2: correlation = -0.11468609308205917\n",
      "CHILDREN: correlation = 0.11409425162657601\n",
      "INTERNET: correlation = 0.10863738416807737\n",
      "CVDSTRK3: correlation = -0.10126552092464387\n"
     ]
    }
   ],
   "source": [
    "# discard the features that have a nan ratio greater than 0.05 from most_correlated_features\n",
    "\n",
    "filtered_features = []\n",
    "for feature in most_correlated_features:\n",
    "    i = np.where(features == feature)[0][0]\n",
    "    nan_ratio = np.isnan(x_train[:, i]).mean()\n",
    "    if nan_ratio <= 0.05:\n",
    "        filtered_features.append(feature)\n",
    "        print(f\"{features[i]}: correlation = {correlations[i]}\")\n",
    "\n"
   ]
  },
  {
   "cell_type": "code",
   "execution_count": 41,
   "metadata": {},
   "outputs": [
    {
     "name": "stdout",
     "output_type": "stream",
     "text": [
      "(317160, 19)\n",
      "['GENHLTH', '_AGE80', '_AGEG5YR', 'EMPLOY1', '_AGE_G', 'BPHIGH4', '_HCVU651', '_AGE65YR', '_RFHLTH', '_RFHYPE5', '_DRDXAR1', 'DIABETE3', 'USEEQUIP', 'DIFFWALK', 'HAVARTH3', 'QLACTLM2', 'CHILDREN', 'INTERNET', 'CVDSTRK3']\n"
     ]
    }
   ],
   "source": [
    "x_train_filtered = x_train[:, [np.where(features == feature)[0][0] for feature in filtered_features]]\n",
    "# discard all rows that contain a nan value in x_train_filtered\n",
    "# Filtered features in the same order as x_train_filtered\n",
    "kept_features = filtered_features  # Directly use filtered_features\n",
    "\n",
    "# Discard all rows that contain a nan value in x_train_filtered\n",
    "mask = np.isnan(x_train_filtered).any(axis=1)\n",
    "x_train_filtered = x_train_filtered[~mask]\n",
    "\n",
    "# Print shape of filtered data\n",
    "print(x_train_filtered.shape)\n",
    "\n",
    "# List of kept features\n",
    "print(kept_features)"
   ]
  },
  {
   "cell_type": "code",
   "execution_count": 37,
   "metadata": {},
   "outputs": [
    {
     "data": {
      "image/png": "[encoded data removed]",
      "text/plain": [
       "<Figure size 640x480 with 2 Axes>"
      ]
     },
     "metadata": {},
     "output_type": "display_data"
    }
   ],
   "source": [
    "# calculate the correlation between most_correlated_features in x_train\n",
    "\n",
    "\n",
    "# calculate the correlation between most_correlated_features in x_train_filtered\n",
    "\n",
    "correlation_matrix = np.corrcoef(x_train_filtered.T)\n",
    "\n",
    "\n",
    "# Plot the correlation matrix\n",
    "plt.imshow(correlation_matrix, cmap='hot', interpolation='nearest')\n",
    "plt.colorbar()\n",
    "plt.title('Correlation Matrix of Most Correlated Features')\n",
    "plt.show()"
   ]
  },
  {
   "cell_type": "markdown",
   "metadata": {},
   "source": [
    "## Test a random forest classifier"
   ]
  },
  {
   "cell_type": "code",
   "execution_count": 53,
   "metadata": {},
   "outputs": [],
   "source": [
    "# import random forest\n",
    "from sklearn.ensemble import RandomForestClassifier"
   ]
  },
  {
   "cell_type": "code",
   "execution_count": 57,
   "metadata": {},
   "outputs": [
    {
     "name": "stdout",
     "output_type": "stream",
     "text": [
      "Feature Importances: [9.67112865e-03 7.52644561e-03 1.22848538e-02 7.23717208e-03\n",
      " 1.04098562e-02 4.79413539e-04 7.87345834e-04 1.15869393e-02\n",
      " 1.13148257e-02 0.00000000e+00 7.38648253e-06 0.00000000e+00\n",
      " 0.00000000e+00 2.49720129e-03 0.00000000e+00 3.56682296e-03\n",
      " 3.08075945e-03 3.19189417e-03 0.00000000e+00 0.00000000e+00\n",
      " 1.35324324e-03 1.74853361e-05 0.00000000e+00 5.89222045e-04\n",
      " 1.49462713e-03 2.90550536e-03 1.79403350e-02 7.16367030e-03\n",
      " 4.53945486e-03 7.18174873e-03 7.58809928e-04 2.61773813e-03\n",
      " 1.61606078e-03 2.84575292e-03 6.70436817e-03 7.07643185e-03\n",
      " 6.52679480e-04 2.91624477e-03 7.18282829e-03 1.24766838e-02\n",
      " 1.49027338e-03 1.46734722e-03 1.91834064e-03 1.91075163e-03\n",
      " 7.69838463e-03 2.58312710e-03 2.09295472e-03 3.65969424e-03\n",
      " 5.00273693e-03 7.67278062e-03 4.89098291e-03 3.84672737e-03\n",
      " 4.74676077e-03 2.46351662e-03 1.32768386e-03 7.48462115e-04\n",
      " 2.22835000e-03 3.10125285e-03 1.08439581e-02 1.42085699e-03\n",
      " 7.29345302e-03 2.40845509e-03 1.03654652e-02 8.87462993e-03\n",
      " 2.02327515e-04 4.34297269e-03 3.79369242e-03 2.01394597e-03\n",
      " 2.07488225e-03 6.17340070e-03 1.48791990e-03 2.31973467e-03\n",
      " 2.56610603e-03 2.95057820e-03 1.34301826e-03 4.05578155e-03\n",
      " 1.16501109e-03 4.97930319e-03 3.27050540e-03 2.02092149e-03\n",
      " 4.01495820e-03 6.11976563e-03 7.59315212e-03 7.99731574e-03\n",
      " 8.24519161e-03 7.87744405e-03 8.07719712e-03 1.24294923e-03\n",
      " 4.29599020e-03 6.29593563e-03 5.75886976e-03 5.22717274e-03\n",
      " 4.64940856e-03 4.69359722e-03 4.14327000e-03 2.40313397e-03\n",
      " 2.88332688e-03 3.36915866e-03 7.33468878e-03 2.90398467e-03\n",
      " 2.16742568e-03 7.26000182e-03 5.20586321e-03 4.27733068e-03\n",
      " 2.39374495e-03 3.85925683e-03 2.48317305e-03 1.41917920e-03\n",
      " 1.13571465e-03 1.49947877e-03 2.04097529e-03 1.83721630e-03\n",
      " 2.10995595e-03 1.96366933e-03 2.16898908e-03 1.76344236e-03\n",
      " 1.05267617e-03 1.01234489e-03 1.21321177e-03 1.07137541e-03\n",
      " 9.14570815e-04 8.30854291e-04 1.10200073e-03 5.20047386e-04\n",
      " 4.32214569e-04 5.74919928e-04 1.45433333e-03 7.07495573e-05\n",
      " 1.27335471e-04 1.18953563e-04 4.68096330e-05 9.65997548e-05\n",
      " 8.20573483e-05 8.45828329e-05 3.41675017e-05 3.89108153e-05\n",
      " 1.64935281e-03 1.22226414e-03 1.19491863e-03 5.18782215e-04\n",
      " 1.06522722e-03 7.52196230e-04 8.00326492e-04 2.15515165e-03\n",
      " 1.18391080e-03 1.07079879e-04 3.07729682e-05 1.54411362e-05\n",
      " 1.37937305e-05 3.25369455e-05 2.95043609e-05 4.46429620e-05\n",
      " 2.70238573e-05 3.96845847e-05 4.72433441e-05 6.79535145e-03\n",
      " 6.69099096e-05 4.73473446e-04 2.77550164e-04 2.78602906e-04\n",
      " 2.43492053e-04 4.06360441e-04 1.02768791e-03 6.36943138e-04\n",
      " 7.31819994e-04 4.95628833e-04 1.64280878e-03 7.07055722e-05\n",
      " 1.59475941e-05 1.01124189e-03 1.20609791e-04 5.47786956e-04\n",
      " 1.60928947e-04 5.47477468e-04 4.57408974e-04 2.32219705e-04\n",
      " 3.30505804e-04 5.53085824e-05 1.38775192e-04 1.35005083e-03\n",
      " 1.32639708e-03 1.13115256e-03 6.18023097e-04 2.30870801e-03\n",
      " 2.53776694e-04 2.29670469e-04 2.68345785e-04 2.62832555e-04\n",
      " 2.73277538e-04 1.73588685e-04 5.92149612e-05 9.18578285e-06\n",
      " 1.93963682e-03 1.60590083e-03 5.83113076e-04 9.99827303e-04\n",
      " 1.31743801e-03 2.80543709e-03 1.27820430e-03 8.11320686e-04\n",
      " 4.28678948e-04 5.06376936e-04 3.19251859e-04 1.01080207e-04\n",
      " 7.01386379e-04 5.54621757e-04 8.67658412e-04 6.96694985e-04\n",
      " 8.76500752e-04 1.02687699e-03 8.04106968e-04 5.64132597e-04\n",
      " 5.05794883e-04 5.90340588e-04 3.56198261e-04 3.83493496e-04\n",
      " 4.36105279e-03 4.47362256e-04 4.40747123e-03 1.19200058e-02\n",
      " 1.21177218e-02 2.97107480e-03 1.22401025e-02 1.20665237e-03\n",
      " 5.44480994e-04 5.38316073e-04 1.32771477e-03 2.29564522e-03\n",
      " 1.11310056e-02 1.29847149e-02 1.18033037e-02 2.14167655e-03\n",
      " 5.99757323e-03 1.08978631e-03 7.81272565e-03 1.44566574e-03\n",
      " 1.43638783e-03 1.98285329e-03 2.33533843e-03 2.08768469e-03\n",
      " 2.13919834e-03 9.32015328e-04 2.24119495e-03 1.42714913e-03\n",
      " 2.26788501e-03 2.75241557e-03 8.54174241e-03 3.54300410e-03\n",
      " 1.26260694e-02 4.43860971e-03 9.63745893e-03 9.79333280e-03\n",
      " 1.25800609e-02 1.36840155e-02 3.77279042e-03 1.92422701e-03\n",
      " 1.74932158e-03 4.15623839e-03 5.12769701e-03 3.52838018e-03\n",
      " 1.29013821e-03 1.85009360e-03 4.21435433e-03 1.00482252e-03\n",
      " 4.60952983e-03 8.77768843e-04 6.51973599e-03 8.43669451e-03\n",
      " 8.71316173e-03 8.83815282e-03 8.45583151e-03 8.50235392e-03\n",
      " 6.32768656e-04 8.79823076e-04 5.01454360e-04 5.73215164e-04\n",
      " 1.06392034e-02 1.27133820e-02 1.95248652e-03 1.69902883e-03\n",
      " 1.23238494e-05 2.34787331e-06 5.07709077e-04 5.79407230e-04\n",
      " 9.79382938e-04 3.62042055e-03 4.18706631e-03 1.61193206e-02\n",
      " 1.41620457e-02 1.55296617e-03 1.99149710e-03 5.91795881e-03\n",
      " 4.41807249e-03 5.87593204e-03 4.55476681e-03 6.98565109e-03\n",
      " 4.82252302e-03 4.36512057e-03 7.75033482e-04 6.90361364e-03\n",
      " 4.79405243e-03 7.52846524e-03 4.54091419e-03 3.78881889e-03\n",
      " 5.41950995e-03 2.14713674e-03 1.37835922e-03 1.69387304e-03\n",
      " 1.93237187e-03 1.42832685e-03 1.54321643e-03 2.58411943e-03\n",
      " 1.44435509e-03 2.85968801e-03 2.95820860e-03 3.49802865e-03\n",
      " 1.12722376e-03 1.46553757e-03 4.63125312e-03 3.56753551e-03\n",
      " 2.27640121e-03]\n",
      "Precision: 0.6866485013623979\n"
     ]
    }
   ],
   "source": [
    "from sklearn.model_selection import train_test_split\n",
    "from sklearn.ensemble import RandomForestClassifier\n",
    "from sklearn.metrics import precision_score\n",
    "\n",
    "# Split x_train and y_train into train and test sets\n",
    "x_train_split, x_test_split, y_train_split, y_test_split = train_test_split(\n",
    "    x_train[:, 1:],  # Exclude the first column of x_train\n",
    "    y_train[:, 1],   # Target is the second column of y_train\n",
    "    test_size=0.2,   # Set aside 20% of the data for testing\n",
    "    random_state=42  # Ensure reproducibility\n",
    ")\n",
    "\n",
    "# Create a Random Forest classifier\n",
    "rf = RandomForestClassifier(random_state=42)\n",
    "\n",
    "# Train the Random Forest classifier on the training data\n",
    "rf.fit(x_train_split, y_train_split)\n",
    "\n",
    "# Print the feature importances\n",
    "print(\"Feature Importances:\", rf.feature_importances_)\n",
    "\n",
    "# Predict on the test set\n",
    "y_pred = rf.predict(x_test_split)\n",
    "\n",
    "# Compute and print precision\n",
    "precision = precision_score(y_test_split, y_pred)\n",
    "print(\"Precision:\", precision)\n"
   ]
  },
  {
   "cell_type": "code",
   "execution_count": 60,
   "metadata": {},
   "outputs": [
    {
     "name": "stdout",
     "output_type": "stream",
     "text": [
      "GENHLTH 0.017940334987778875\n",
      "MAXVO2_ 0.016119320606601366\n",
      "FC60_ 0.014162045716093748\n",
      "_BMI5 0.013684015540196041\n",
      "_LLCPWT 0.012984714919223983\n",
      "_VEGESUM 0.012713381965382022\n",
      "_AGE80 0.012626069402297681\n",
      "WTKG3 0.01258006090323557\n",
      "CVDSTRK3 0.012476683767899658\n",
      "IDATE 0.012284853786696774\n"
     ]
    }
   ],
   "source": [
    "# sort features[1:] by feature_importances_\n",
    "sorted_features = np.argsort(rf.feature_importances_)[::-1]\n",
    "\n",
    "# print the 10 most important features\n",
    "for i in range(10):\n",
    "    print(features[sorted_features[i] + 1], rf.feature_importances_[sorted_features[i]])"
   ]
  }
 ],
 "metadata": {
  "kernelspec": {
   "display_name": "ada",
   "language": "python",
   "name": "python3"
  },
  "language_info": {
   "codemirror_mode": {
    "name": "ipython",
    "version": 3
   },
   "file_extension": ".py",
   "mimetype": "text/x-python",
   "name": "python",
   "nbconvert_exporter": "python",
   "pygments_lexer": "ipython3",
   "version": "3.11.9"
  }
 },
 "nbformat": 4,
 "nbformat_minor": 2
}
