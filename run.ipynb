{
 "cells": [
  {
   "cell_type": "markdown",
   "id": "edb3e540",
   "metadata": {},
   "source": [
    "# Project 1 in Machine Learning, Kernel-trick"
   ]
  },
  {
   "cell_type": "markdown",
   "id": "80ededdb",
   "metadata": {},
   "source": [
    "**Author:** Antoine Cornaz, Zayneb Melloui, Anas Himmi\n",
    "**Date:** 1.11.2024"
   ]
  },
  {
   "cell_type": "markdown",
   "id": "d2b83d02",
   "metadata": {},
   "source": [
    "## 1. Introduction"
   ]
  },
  {
   "cell_type": "markdown",
   "id": "59585ad4",
   "metadata": {},
   "source": [
    "### 1.1 Problem Statement\n",
    "This machine learning project consists of two main phases. The dataset used contains medical records of patients, both healthy and those diagnosed with cardiovascular disease (CVD). The first phase focuses on implementing the functions covered in class and exercise sessions. The second phase aims to optimize the model for the best possible prediction, simulating a real-world scenario."
   ]
  },
  {
   "cell_type": "markdown",
   "id": "33f2125b",
   "metadata": {},
   "source": [
    "### 1.2 Objective\n",
    "\n",
    "The objective of this project is to develop a machine learning model capable of predicting the presence of cardiovascular disease (CVD) in patients based on their medical information. The performance of the model will be evaluated using the following metrics:\n",
    "- **Accuracy**: To measure the overall correctness of the model's predictions.\n",
    "- **F1-Score**: To assess the balance between precision and recall, particularly for the CVD class.\n",
    "- **False Positive Rate (FPR)**: To evaluate the proportion of healthy patients incorrectly classified as having CVD.\n",
    "- **True Positive Rate (TPR)**: To measure the proportion of patients with CVD correctly identified by the model.\n",
    "\n",
    "The goal is to optimize the model to achieve the best possible performance on these metrics, simulating real-world predictive scenarios."
   ]
  },
  {
   "cell_type": "markdown",
   "id": "39570748",
   "metadata": {},
   "source": [
    "### 1.3 Dataset Description\n",
    "The dataset consists of records from 328,135 patients, each described by 321 dimensions containing various medical information. While none of the patients have all 321 medical fields fully populated, 92 key medical attributes are consistently available for every patient. The data originates from the **Behavioral Risk Factor Surveillance System (BRFSS)**, a health-related telephone survey system that gathers state-level data on U.S. residents. The BRFSS focuses on health-related risk behaviors, chronic health conditions, and the usage of preventive health services. This dataset provides a rich source of information for analyzing cardiovascular disease (CVD) and related health factors."
   ]
  },
  {
   "cell_type": "markdown",
   "id": "74fd1bc8",
   "metadata": {},
   "source": [
    "## 2. Data Loading and Exploration"
   ]
  },
  {
   "cell_type": "markdown",
   "id": "9ba7c851",
   "metadata": {},
   "source": [
    "## 2.1 Import and Initialisation"
   ]
  },
  {
   "cell_type": "code",
   "execution_count": 37,
   "id": "7b7de107",
   "metadata": {},
   "outputs": [
    {
     "name": "stdout",
     "output_type": "stream",
     "text": [
      "The autoreload extension is already loaded. To reload it, use:\n",
      "  %reload_ext autoreload\n"
     ]
    }
   ],
   "source": [
    "# Useful starting lines\n",
    "%matplotlib inline\n",
    "import numpy as np\n",
    "import matplotlib.pyplot as plt\n",
    "\n",
    "from implementations import *\n",
    "from helpers import *\n",
    "from visualisation import *\n",
    "from preprocessing import *\n",
    "from missing import *\n",
    "from split import *\n",
    "\n",
    "import sys\n",
    "\n",
    "\n",
    "%load_ext autoreload\n",
    "%autoreload 2"
   ]
  },
  {
   "cell_type": "code",
   "execution_count": 2,
   "id": "d9aedaf7",
   "metadata": {},
   "outputs": [],
   "source": [
    "x_train, x_test, y_train, train_ids, test_ids = load_csv_data(\"data\", sub_sample=True)"
   ]
  },
  {
   "cell_type": "markdown",
   "id": "f4ef8013",
   "metadata": {},
   "source": [
    "## 2.2 Exploration and Visualisation"
   ]
  },
  {
   "cell_type": "code",
   "execution_count": 24,
   "id": "0777adc1",
   "metadata": {},
   "outputs": [
    {
     "data": {
      "text/plain": [
       "(6563, 321)"
      ]
     },
     "execution_count": 24,
     "metadata": {},
     "output_type": "execute_result"
    }
   ],
   "source": [
    "#D = 321\n",
    "#N = 6563. subset of the dataset\n",
    "N, D = x_train.shape\n",
    "N, D"
   ]
  },
  {
   "cell_type": "code",
   "execution_count": 25,
   "id": "bfc4756f",
   "metadata": {},
   "outputs": [
    {
     "name": "stdout",
     "output_type": "stream",
     "text": [
      "0\n",
      "89\n"
     ]
    }
   ],
   "source": [
    "# 0 patient with every dimension filled.\n",
    "# 89 features are completed by all participant\n",
    "nan_array = np.isnan(x_train)\n",
    "print(np.sort((nan_array.sum(axis=0) ), axis=0)[0])\n",
    "print(np.sort((nan_array.sum(axis=1) ), axis=0)[0])"
   ]
  },
  {
   "cell_type": "code",
   "execution_count": 31,
   "id": "d3a76385",
   "metadata": {},
   "outputs": [
    {
     "data": {
      "image/png": "[encoded data removed]",
      "text/plain": [
       "<Figure size 640x480 with 1 Axes>"
      ]
     },
     "metadata": {},
     "output_type": "display_data"
    }
   ],
   "source": [
    "# Correlation between individual feature and expectation\n",
    "#TODO move from anas_jpn to file and plot\n",
    "\n",
    "sorted_correlations, correlations = correlation_f(x_train, y_train)\n",
    "plt.bar(range(len(sorted_correlations)), np.array(correlations)[sorted_correlations])\n",
    "plt.show()"
   ]
  },
  {
   "cell_type": "markdown",
   "id": "82253e28",
   "metadata": {},
   "source": [
    "# 3. Data Preprocessing"
   ]
  },
  {
   "cell_type": "code",
   "execution_count": 32,
   "id": "7e71e004",
   "metadata": {},
   "outputs": [
    {
     "name": "stdout",
     "output_type": "stream",
     "text": [
      "dimensions 18 -> 18\n",
      "dimensions 18 -> 18\n"
     ]
    }
   ],
   "source": [
    "#Don't run 2 times this case without running the correlation one.\n",
    "\n",
    "# Remove features with correlation smaller than 0.1\n",
    "x_train_selected, x_test_selected = remove_uncorrelated_feature(x_train, x_test, correlations)\n",
    "print(\"dimensions\",x_train.shape[1], \"->\",x_train_selected.shape[1])\n",
    "# discard the features that have a nan ratio greater than 0.05 from most_correlated_features\n",
    "#TODO\n",
    "x_train_selected2, x_test_selected2 = remove_unsuffisant_data_feature(x_train_selected, x_test_selected)\n",
    "print(\"dimensions\",x_train_selected.shape[1], \"->\",x_train_selected2.shape[1])\n",
    "x_train = x_train_selected2\n",
    "x_test = x_test_selected2"
   ]
  },
  {
   "cell_type": "markdown",
   "id": "6c95bef0",
   "metadata": {},
   "source": [
    "## 3.1 Handling Missing Values"
   ]
  },
  {
   "cell_type": "code",
   "execution_count": 35,
   "id": "c5f043dd",
   "metadata": {},
   "outputs": [
    {
     "name": "stdout",
     "output_type": "stream",
     "text": [
      "[ 2.53710194  2.22657321  1.71065062  2.76855097  3.93478592 64.8215755\n",
      "  1.80317164  1.90053009  1.85714286  1.1913759   3.88160902  1.41840622\n",
      "  1.67351948  7.73442023  1.36172482 55.04281579  4.41139723  1.59378333]\n",
      "[ 2.53710194  2.22657321  1.71065062  2.76855097  3.93478592 64.8215755\n",
      "  1.80317164  1.90053009  1.85714286  1.1913759   3.88160902  1.41840622\n",
      "  1.67351948  7.73442023  1.36172482 55.04281579  4.41139723  1.59378333]\n"
     ]
    }
   ],
   "source": [
    "x_train, x_test = fill_missing_value(x_train, x_test)"
   ]
  },
  {
   "cell_type": "markdown",
   "id": "1b730160",
   "metadata": {},
   "source": [
    "# 4. Train/Test Split"
   ]
  },
  {
   "cell_type": "markdown",
   "id": "ef6ca6cd",
   "metadata": {},
   "source": [
    "## 4.1 Splitting the Dataset"
   ]
  },
  {
   "cell_type": "code",
   "execution_count": 38,
   "id": "69d7b395",
   "metadata": {},
   "outputs": [],
   "source": [
    "x_tr, x_te, y_tr, y_te = split_set(x_train, y_train)"
   ]
  },
  {
   "cell_type": "markdown",
   "id": "a3398b7a",
   "metadata": {},
   "source": [
    "# 5. Model Selection and Training"
   ]
  },
  {
   "cell_type": "markdown",
   "id": "0f97fb56",
   "metadata": {},
   "source": [
    "## 5.1 Model Selection"
   ]
  },
  {
   "cell_type": "markdown",
   "id": "d89f2816",
   "metadata": {},
   "source": [
    "## 5.2 Training the Models"
   ]
  },
  {
   "cell_type": "markdown",
   "id": "778dd427",
   "metadata": {},
   "source": [
    "# 6. Model Evaluation"
   ]
  },
  {
   "cell_type": "markdown",
   "id": "321ab85b",
   "metadata": {},
   "source": [
    "# 7. Model Optimization"
   ]
  },
  {
   "cell_type": "markdown",
   "id": "a76e4a9c",
   "metadata": {},
   "source": [
    "## 7.1 Hyperparameter Tuning"
   ]
  }
 ],
 "metadata": {
  "kernelspec": {
   "display_name": "Python 3 (ipykernel)",
   "language": "python",
   "name": "python3"
  },
  "language_info": {
   "codemirror_mode": {
    "name": "ipython",
    "version": 3
   },
   "file_extension": ".py",
   "mimetype": "text/x-python",
   "name": "python",
   "nbconvert_exporter": "python",
   "pygments_lexer": "ipython3",
   "version": "3.12.3"
  }
 },
 "nbformat": 4,
 "nbformat_minor": 5
}
